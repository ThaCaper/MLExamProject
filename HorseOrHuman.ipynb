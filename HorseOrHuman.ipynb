{
 "cells": [
  {
   "cell_type": "code",
   "execution_count": 1,
   "metadata": {
    "collapsed": true
   },
   "outputs": [],
   "source": [
    "import sklearn\n",
    "import numpy as np\n",
    "import tensorflow as tf\n",
    "import tensorflow_datasets as tfds\n",
    "from tensorflow import keras\n",
    "import matplotlib.pyplot as plt\n",
    "\n",
    "\n",
    "train_dataset,info = tfds.load('horses_or_humans', with_info = True, split='train', as_supervised=True)\n",
    "val_dataset,val_info = tfds.load(\"horses_or_humans\", with_info=True, split='test', as_supervised=True)"
   ]
  },
  {
   "cell_type": "code",
   "execution_count": 2,
   "outputs": [],
   "source": [
    "train_dataset = train_dataset.shuffle(100).batch(32)\n",
    "val_dataset = val_dataset.batch(32)"
   ],
   "metadata": {
    "collapsed": false,
    "pycharm": {
     "name": "#%%\n"
    }
   }
  },
  {
   "cell_type": "code",
   "execution_count": 3,
   "outputs": [
    {
     "name": "stdout",
     "output_type": "stream",
     "text": [
      "Model: \"sequential\"\n",
      "_________________________________________________________________\n",
      " Layer (type)                Output Shape              Param #   \n",
      "=================================================================\n",
      " conv2d (Conv2D)             (None, 298, 298, 8)       224       \n",
      "                                                                 \n",
      " max_pooling2d (MaxPooling2D  (None, 149, 149, 8)      0         \n",
      " )                                                               \n",
      "                                                                 \n",
      " conv2d_1 (Conv2D)           (None, 147, 147, 16)      1168      \n",
      "                                                                 \n",
      " max_pooling2d_1 (MaxPooling  (None, 73, 73, 16)       0         \n",
      " 2D)                                                             \n",
      "                                                                 \n",
      " conv2d_2 (Conv2D)           (None, 71, 71, 32)        4640      \n",
      "                                                                 \n",
      " max_pooling2d_2 (MaxPooling  (None, 35, 35, 32)       0         \n",
      " 2D)                                                             \n",
      "                                                                 \n",
      " flatten (Flatten)           (None, 39200)             0         \n",
      "                                                                 \n",
      " dense (Dense)               (None, 64)                2508864   \n",
      "                                                                 \n",
      " dense_1 (Dense)             (None, 2)                 130       \n",
      "                                                                 \n",
      "=================================================================\n",
      "Total params: 2,515,026\n",
      "Trainable params: 2,515,026\n",
      "Non-trainable params: 0\n",
      "_________________________________________________________________\n"
     ]
    }
   ],
   "source": [
    "model = tf.keras.models.Sequential([\n",
    "    tf.keras.layers.Conv2D(filters=8, kernel_size = 3, input_shape = [300,300,3], activation='relu'),\n",
    "    tf.keras.layers.MaxPooling2D(),\n",
    "    tf.keras.layers.Conv2D(filters = 16, kernel_size = 3, activation = 'relu'),\n",
    "    tf.keras.layers.MaxPooling2D(),\n",
    "    tf.keras.layers.Conv2D(filters = 32, kernel_size = 3, activation = 'relu'),\n",
    "    tf.keras.layers.MaxPooling2D(),\n",
    "    tf.keras.layers.Flatten(),\n",
    "    tf.keras.layers.Dense(units=64, activation = 'relu'),\n",
    "    tf.keras.layers.Dense(units = 2, activation='softmax')\n",
    "])\n",
    "model.summary()"
   ],
   "metadata": {
    "collapsed": false,
    "pycharm": {
     "name": "#%%\n"
    }
   }
  },
  {
   "cell_type": "code",
   "execution_count": 4,
   "outputs": [
    {
     "name": "stdout",
     "output_type": "stream",
     "text": [
      "Epoch 1/8\n",
      "33/33 [==============================] - 44s 1s/step - loss: 79.5290 - accuracy: 0.6952 - val_loss: 1.2703 - val_accuracy: 0.8203\n",
      "Epoch 2/8\n",
      "33/33 [==============================] - 37s 1s/step - loss: 0.0973 - accuracy: 0.9688 - val_loss: 0.5531 - val_accuracy: 0.8828\n",
      "Epoch 3/8\n",
      "33/33 [==============================] - 33s 1s/step - loss: 0.0106 - accuracy: 0.9990 - val_loss: 0.7959 - val_accuracy: 0.8711\n",
      "Epoch 4/8\n",
      "33/33 [==============================] - 33s 1s/step - loss: 0.0022 - accuracy: 1.0000 - val_loss: 1.1928 - val_accuracy: 0.8672\n",
      "Epoch 5/8\n",
      "33/33 [==============================] - 32s 970ms/step - loss: 3.6142e-04 - accuracy: 1.0000 - val_loss: 1.1156 - val_accuracy: 0.8711\n",
      "Epoch 6/8\n",
      "33/33 [==============================] - 34s 1s/step - loss: 1.1969e-04 - accuracy: 1.0000 - val_loss: 1.0953 - val_accuracy: 0.8789\n",
      "Epoch 7/8\n",
      "33/33 [==============================] - 33s 981ms/step - loss: 1.2828e-04 - accuracy: 1.0000 - val_loss: 1.1479 - val_accuracy: 0.8711\n",
      "Epoch 8/8\n",
      "33/33 [==============================] - 33s 996ms/step - loss: 6.4073e-05 - accuracy: 1.0000 - val_loss: 1.1859 - val_accuracy: 0.8711\n"
     ]
    }
   ],
   "source": [
    "model.compile(loss='sparse_categorical_crossentropy', optimizer='adam', metrics=['accuracy'])\n",
    "history = model.fit(train_dataset, epochs=8, validation_data=val_dataset)"
   ],
   "metadata": {
    "collapsed": false,
    "pycharm": {
     "name": "#%%\n"
    }
   }
  },
  {
   "cell_type": "code",
   "execution_count": 5,
   "outputs": [
    {
     "data": {
      "text/plain": "<Figure size 576x288 with 1 Axes>",
      "image/png": "[encoded data removed]"
     },
     "metadata": {
      "needs_background": "light"
     },
     "output_type": "display_data"
    }
   ],
   "source": [
    "plt.figure(figsize=(8, 4))\n",
    "plt.plot(range(8), history.history['loss'], 'r', label='training loss')\n",
    "plt.plot(range(8), history.history['val_loss'], 'b', label='validation Loss')\n",
    "plt.legend()\n",
    "plt.xlabel('Number of Epochs')\n",
    "plt.ylabel(\"Loss\")\n",
    "plt.show()"
   ],
   "metadata": {
    "collapsed": false,
    "pycharm": {
     "name": "#%%\n"
    }
   }
  },
  {
   "cell_type": "code",
   "execution_count": 6,
   "outputs": [
    {
     "data": {
      "text/plain": "<Figure size 576x288 with 1 Axes>",
      "image/png": "[encoded data removed]"
     },
     "metadata": {
      "needs_background": "light"
     },
     "output_type": "display_data"
    }
   ],
   "source": [
    "plt.figure(figsize=(8, 4))\n",
    "plt.plot(range(8), history.history['accuracy'], 'r', label='training accuracy')\n",
    "plt.plot(range(8), history.history['val_accuracy'], 'b', label='validation accuracy')\n",
    "plt.legend()\n",
    "plt.xlabel('Number of Epochs')\n",
    "plt.ylabel(\"Accuracy\")\n",
    "plt.show()"
   ],
   "metadata": {
    "collapsed": false,
    "pycharm": {
     "name": "#%%\n"
    }
   }
  },
  {
   "cell_type": "code",
   "execution_count": 7,
   "outputs": [],
   "source": [
    "model.save_weights('My_model.h5')\n",
    "model.load_weights('My_model.h5')"
   ],
   "metadata": {
    "collapsed": false,
    "pycharm": {
     "name": "#%%\n"
    }
   }
  },
  {
   "cell_type": "code",
   "execution_count": 8,
   "outputs": [],
   "source": [
    "# Defining all test images\n",
    "horse1 = 'images/hest_01.png'\n",
    "horse2 = 'images/hest_02.png'\n",
    "horse3 = 'images/hest_03.png'\n",
    "horse4 = 'images/hest_04.png'\n",
    "horse5 = 'images/hest_05.png'\n",
    "horse6 = 'images/hest_06.png'\n",
    "horse7 = 'images/hest_07.png'\n",
    "\n",
    "human1 = 'images/human_01.png'\n",
    "human2 = 'images/human_02.png'\n",
    "human3 = 'images/human_03.png'"
   ],
   "metadata": {
    "collapsed": false,
    "pycharm": {
     "name": "#%%\n"
    }
   }
  },
  {
   "cell_type": "code",
   "execution_count": 59,
   "outputs": [],
   "source": [
    "from tensorflow.keras.preprocessing import image\n",
    "import numpy as np\n",
    "\n",
    "\n",
    "def pred_horse_human(horse_human):\n",
    "    test_image = image.load_img(horse_human, target_size = (300, 300))\n",
    "    test_image = image.img_to_array(test_image)/255\n",
    "    test_image = np.expand_dims(test_image, axis = 0)\n",
    "\n",
    "    result = model.predict(test_image)\n",
    "\n",
    "    pred = np.argmax(result)\n",
    "    print(result, \"-->\", pred)\n",
    "\n",
    "\n",
    "    if pred == 0:\n",
    "        print(\"Predicted as a HORSE\")\n",
    "    else:\n",
    "        print(\"Predicted as a HUMAN\")"
   ],
   "metadata": {
    "collapsed": false,
    "pycharm": {
     "name": "#%%\n"
    }
   }
  },
  {
   "cell_type": "code",
   "execution_count": null,
   "outputs": [],
   "source": [
    "for horse_human in [horse1, horse2, horse3, horse4, horse5, horse6, horse7, human1, human2, human3]:\n",
    "    pred_horse_human(horse_human)"
   ],
   "metadata": {
    "collapsed": false,
    "pycharm": {
     "name": "#%%\n"
    }
   }
  },
  {
   "cell_type": "code",
   "execution_count": 61,
   "outputs": [
    {
     "name": "stdout",
     "output_type": "stream",
     "text": [
      "8/8 [==============================] - 3s 369ms/step - loss: 1.1859 - accuracy: 0.8711\n"
     ]
    },
    {
     "data": {
      "text/plain": "[1.1858751773834229, 0.87109375]"
     },
     "execution_count": 61,
     "metadata": {},
     "output_type": "execute_result"
    }
   ],
   "source": [
    "model.evaluate(val_dataset)"
   ],
   "metadata": {
    "collapsed": false,
    "pycharm": {
     "name": "#%%\n"
    }
   }
  }
 ],
 "metadata": {
  "kernelspec": {
   "display_name": "Python 3",
   "language": "python",
   "name": "python3"
  },
  "language_info": {
   "codemirror_mode": {
    "name": "ipython",
    "version": 2
   },
   "file_extension": ".py",
   "mimetype": "text/x-python",
   "name": "python",
   "nbconvert_exporter": "python",
   "pygments_lexer": "ipython2",
   "version": "2.7.6"
  }
 },
 "nbformat": 4,
 "nbformat_minor": 0
}