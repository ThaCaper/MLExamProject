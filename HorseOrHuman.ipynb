{
 "cells": [
  {
   "cell_type": "code",
   "execution_count": 2,
   "metadata": {
    "collapsed": true
   },
   "outputs": [],
   "source": [
    "import sklearn\n",
    "import numpy as np\n",
    "import tensorflow as tf\n",
    "import tensorflow_datasets as tfds\n",
    "from tensorflow import keras\n",
    "import matplotlib.pyplot as plt\n",
    "\n",
    "\n",
    "train_dataset,info = tfds.load('horses_or_humans', with_info = True, split='train', as_supervised=True)\n",
    "val_dataset,val_info = tfds.load(\"horses_or_humans\", with_info=True, split='test', as_supervised=True)"
   ]
  },
  {
   "cell_type": "code",
   "execution_count": 3,
   "outputs": [],
   "source": [
    "train_dataset = train_dataset.shuffle(100).batch(32)\n",
    "val_dataset = val_dataset.batch(32)"
   ],
   "metadata": {
    "collapsed": false,
    "pycharm": {
     "name": "#%%\n"
    }
   }
  },
  {
   "cell_type": "code",
   "execution_count": 4,
   "outputs": [
    {
     "name": "stdout",
     "output_type": "stream",
     "text": [
      "Model: \"sequential\"\n",
      "_________________________________________________________________\n",
      " Layer (type)                Output Shape              Param #   \n",
      "=================================================================\n",
      " conv2d (Conv2D)             (None, 298, 298, 8)       224       \n",
      "                                                                 \n",
      " max_pooling2d (MaxPooling2D  (None, 149, 149, 8)      0         \n",
      " )                                                               \n",
      "                                                                 \n",
      " conv2d_1 (Conv2D)           (None, 147, 147, 16)      1168      \n",
      "                                                                 \n",
      " max_pooling2d_1 (MaxPooling  (None, 73, 73, 16)       0         \n",
      " 2D)                                                             \n",
      "                                                                 \n",
      " conv2d_2 (Conv2D)           (None, 71, 71, 32)        4640      \n",
      "                                                                 \n",
      " max_pooling2d_2 (MaxPooling  (None, 35, 35, 32)       0         \n",
      " 2D)                                                             \n",
      "                                                                 \n",
      " flatten (Flatten)           (None, 39200)             0         \n",
      "                                                                 \n",
      " dense (Dense)               (None, 64)                2508864   \n",
      "                                                                 \n",
      " dense_1 (Dense)             (None, 2)                 130       \n",
      "                                                                 \n",
      "=================================================================\n",
      "Total params: 2,515,026\n",
      "Trainable params: 2,515,026\n",
      "Non-trainable params: 0\n",
      "_________________________________________________________________\n"
     ]
    }
   ],
   "source": [
    "model = tf.keras.models.Sequential([\n",
    "\n",
    "    # tf.keras.layers.Conv2D(filters=8, kernel_size = 3, input_shape = [300,300,3], activation='relu'),\n",
    "    #tf.keras.layers.MaxPooling2D(),\n",
    "    #tf.keras.layers.Conv2D(filters = 16, kernel_size = 3, activation = 'relu'),\n",
    "    #tf.keras.layers.MaxPooling2D(),\n",
    "    #tf.keras.layers.Conv2D(filters = 32, kernel_size = 3, activation = 'relu'),\n",
    "    #tf.keras.layers.MaxPooling2D(),\n",
    "    #tf.keras.layers.Flatten(),\n",
    "    #tf.keras.layers.Dense(units=64, activation = 'relu'),\n",
    "    #tf.keras.layers.Dense(units = 2, activation='softmax')\n",
    "])\n",
    "model.summary()"
   ],
   "metadata": {
    "collapsed": false,
    "pycharm": {
     "name": "#%%\n"
    }
   }
  },
  {
   "cell_type": "code",
   "execution_count": 5,
   "outputs": [
    {
     "name": "stdout",
     "output_type": "stream",
     "text": [
      "Epoch 1/8\n",
      "33/33 [==============================] - 38s 1s/step - loss: 30.0708 - accuracy: 0.6534 - val_loss: 0.7901 - val_accuracy: 0.5195\n",
      "Epoch 2/8\n",
      "33/33 [==============================] - 36s 1s/step - loss: 0.5931 - accuracy: 0.8072 - val_loss: 0.8311 - val_accuracy: 0.7109\n",
      "Epoch 3/8\n",
      "33/33 [==============================] - 43s 1s/step - loss: 0.3895 - accuracy: 0.9377 - val_loss: 1.1102 - val_accuracy: 0.7656\n",
      "Epoch 4/8\n",
      "33/33 [==============================] - 35s 1s/step - loss: 0.3496 - accuracy: 0.9679 - val_loss: 1.4806 - val_accuracy: 0.7617\n",
      "Epoch 5/8\n",
      "33/33 [==============================] - 40s 1s/step - loss: 0.3202 - accuracy: 0.9825 - val_loss: 2.2284 - val_accuracy: 0.7188\n",
      "Epoch 6/8\n",
      "33/33 [==============================] - 43s 1s/step - loss: 0.3008 - accuracy: 0.9873 - val_loss: 2.3980 - val_accuracy: 0.7070\n",
      "Epoch 7/8\n",
      "33/33 [==============================] - 33s 994ms/step - loss: 0.2936 - accuracy: 0.9805 - val_loss: 2.1332 - val_accuracy: 0.7383\n",
      "Epoch 8/8\n",
      "33/33 [==============================] - 32s 955ms/step - loss: 0.2711 - accuracy: 0.9903 - val_loss: 2.7394 - val_accuracy: 0.7070\n"
     ]
    }
   ],
   "source": [
    "model.compile(loss='sparse_categorical_crossentropy', optimizer='adam', metrics=['accuracy'])\n",
    "history = model.fit(train_dataset, epochs=8, validation_data=val_dataset)"
   ],
   "metadata": {
    "collapsed": false,
    "pycharm": {
     "name": "#%%\n"
    }
   }
  },
  {
   "cell_type": "code",
   "execution_count": 6,
   "outputs": [
    {
     "data": {
      "text/plain": "<Figure size 576x288 with 1 Axes>",
      "image/png": "[encoded data removed]"
     },
     "metadata": {
      "needs_background": "light"
     },
     "output_type": "display_data"
    }
   ],
   "source": [
    "plt.figure(figsize=(8, 4))\n",
    "plt.plot(range(8), history.history['loss'], 'r', label='training loss')\n",
    "plt.plot(range(8), history.history['val_loss'], 'b', label='validation Loss')\n",
    "plt.legend()\n",
    "plt.xlabel('Number of Epochs')\n",
    "plt.ylabel(\"Loss\")\n",
    "plt.show()"
   ],
   "metadata": {
    "collapsed": false,
    "pycharm": {
     "name": "#%%\n"
    }
   }
  },
  {
   "cell_type": "code",
   "execution_count": 7,
   "outputs": [
    {
     "data": {
      "text/plain": "<Figure size 576x288 with 1 Axes>",
      "image/png": "[encoded data removed]"
     },
     "metadata": {
      "needs_background": "light"
     },
     "output_type": "display_data"
    }
   ],
   "source": [
    "plt.figure(figsize=(8, 4))\n",
    "plt.plot(range(8), history.history['accuracy'], 'r', label='training accuracy')\n",
    "plt.plot(range(8), history.history['val_accuracy'], 'b', label='validation accuracy')\n",
    "plt.legend()\n",
    "plt.xlabel('Number of Epochs')\n",
    "plt.ylabel(\"Accuracy\")\n",
    "plt.show()"
   ],
   "metadata": {
    "collapsed": false,
    "pycharm": {
     "name": "#%%\n"
    }
   }
  },
  {
   "cell_type": "code",
   "execution_count": null,
   "outputs": [],
   "source": [],
   "metadata": {
    "collapsed": false,
    "pycharm": {
     "name": "#%%\n"
    }
   }
  }
 ],
 "metadata": {
  "kernelspec": {
   "display_name": "Python 3",
   "language": "python",
   "name": "python3"
  },
  "language_info": {
   "codemirror_mode": {
    "name": "ipython",
    "version": 2
   },
   "file_extension": ".py",
   "mimetype": "text/x-python",
   "name": "python",
   "nbconvert_exporter": "python",
   "pygments_lexer": "ipython2",
   "version": "2.7.6"
  }
 },
 "nbformat": 4,
 "nbformat_minor": 0
}