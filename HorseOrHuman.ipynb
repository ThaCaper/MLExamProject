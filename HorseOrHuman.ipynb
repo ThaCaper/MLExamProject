{
 "cells": [
  {
   "cell_type": "code",
   "execution_count": 10,
   "metadata": {
    "collapsed": true
   },
   "outputs": [],
   "source": [
    "import sklearn\n",
    "import numpy as np\n",
    "import tensorflow as tf\n",
    "import tensorflow_datasets as tfds\n",
    "from tensorflow import keras\n",
    "import matplotlib.pyplot as plt\n",
    "\n",
    "\n",
    "# Loading the dataset from tensorflow with splits both train and test dataset\n",
    "# Test split has 256 examples, train split has 1027 examples\n",
    "# Turns into TFRecord files\n",
    "train_dataset,info = tfds.load('horses_or_humans', with_info = True, split='train', as_supervised=True)\n",
    "val_dataset,val_info = tfds.load(\"horses_or_humans\", with_info=True, split='test', as_supervised=True)"
   ]
  },
  {
   "cell_type": "code",
   "execution_count": 11,
   "outputs": [],
   "source": [
    "# Preparing the data\n",
    "train_dataset = train_dataset.batch(32).prefetch(1)\n",
    "val_dataset = val_dataset.batch(32)"
   ],
   "metadata": {
    "collapsed": false,
    "pycharm": {
     "name": "#%%\n"
    }
   }
  },
  {
   "cell_type": "code",
   "execution_count": 12,
   "outputs": [
    {
     "name": "stdout",
     "output_type": "stream",
     "text": [
      "Model: \"sequential_1\"\n",
      "_________________________________________________________________\n",
      " Layer (type)                Output Shape              Param #   \n",
      "=================================================================\n",
      " flatten_1 (Flatten)         (None, 270000)            0         \n",
      "                                                                 \n",
      " dense_3 (Dense)             (None, 300)               81000300  \n",
      "                                                                 \n",
      " dense_4 (Dense)             (None, 300)               90300     \n",
      "                                                                 \n",
      " dense_5 (Dense)             (None, 2)                 602       \n",
      "                                                                 \n",
      "=================================================================\n",
      "Total params: 81,091,202\n",
      "Trainable params: 81,091,202\n",
      "Non-trainable params: 0\n",
      "_________________________________________________________________\n"
     ]
    }
   ],
   "source": [
    "model = tf.keras.models.Sequential([\n",
    "    # Input layer as flatten, makes it a 1 dimension array with colors (3) rgb\n",
    "    tf.keras.layers.Flatten(input_shape=[300, 300, 3]),\n",
    "\n",
    "    # Hidden layers\n",
    "    tf.keras.layers.Dense(units=300, activation='relu'),\n",
    "    tf.keras.layers.Dense(units=300, activation='relu'),\n",
    "    \n",
    "    tf.keras.layers.Dropout(rate=0.2),\n",
    "    # Output layer\n",
    "    # Softmax for multiclass classification\n",
    "    tf.keras.layers.Dense(units=2, activation='softmax')\n",
    "])\n",
    "model.summary()"
   ],
   "metadata": {
    "collapsed": false,
    "pycharm": {
     "name": "#%%\n"
    }
   }
  },
  {
   "cell_type": "code",
   "execution_count": 13,
   "outputs": [
    {
     "name": "stdout",
     "output_type": "stream",
     "text": [
      "Epoch 1/15\n",
      "33/33 [==============================] - 19s 555ms/step - loss: 9940.4287 - accuracy: 0.5316 - val_loss: 2500.4543 - val_accuracy: 0.5000\n",
      "Epoch 2/15\n",
      "33/33 [==============================] - 19s 582ms/step - loss: 257.4988 - accuracy: 0.7838 - val_loss: 373.7391 - val_accuracy: 0.6680\n",
      "Epoch 3/15\n",
      "33/33 [==============================] - 19s 566ms/step - loss: 358.7685 - accuracy: 0.7001 - val_loss: 2263.5728 - val_accuracy: 0.5039\n",
      "Epoch 4/15\n",
      "33/33 [==============================] - 17s 511ms/step - loss: 342.2931 - accuracy: 0.7702 - val_loss: 202.5188 - val_accuracy: 0.8633\n",
      "Epoch 5/15\n",
      "33/33 [==============================] - 16s 475ms/step - loss: 63.8101 - accuracy: 0.8705 - val_loss: 472.0555 - val_accuracy: 0.6875\n",
      "Epoch 6/15\n",
      "33/33 [==============================] - 16s 499ms/step - loss: 60.6098 - accuracy: 0.8793 - val_loss: 394.9923 - val_accuracy: 0.7305\n",
      "Epoch 7/15\n",
      "33/33 [==============================] - 16s 494ms/step - loss: 154.2195 - accuracy: 0.8111 - val_loss: 652.3749 - val_accuracy: 0.6484\n",
      "Epoch 8/15\n",
      "33/33 [==============================] - 16s 480ms/step - loss: 85.5554 - accuracy: 0.8773 - val_loss: 120.3851 - val_accuracy: 0.8398\n",
      "Epoch 9/15\n",
      "33/33 [==============================] - 15s 464ms/step - loss: 57.6391 - accuracy: 0.8676 - val_loss: 124.9185 - val_accuracy: 0.8711\n",
      "Epoch 10/15\n",
      "33/33 [==============================] - 15s 464ms/step - loss: 37.1081 - accuracy: 0.9026 - val_loss: 204.4255 - val_accuracy: 0.8047\n",
      "Epoch 11/15\n",
      "33/33 [==============================] - 15s 457ms/step - loss: 89.7727 - accuracy: 0.8491 - val_loss: 278.4066 - val_accuracy: 0.7461\n",
      "Epoch 12/15\n",
      "33/33 [==============================] - 14s 439ms/step - loss: 29.1351 - accuracy: 0.9075 - val_loss: 106.6522 - val_accuracy: 0.8555\n",
      "Epoch 13/15\n",
      "33/33 [==============================] - 15s 442ms/step - loss: 24.8163 - accuracy: 0.9328 - val_loss: 104.3235 - val_accuracy: 0.8828\n",
      "Epoch 14/15\n",
      "33/33 [==============================] - 15s 447ms/step - loss: 15.2853 - accuracy: 0.9445 - val_loss: 259.8131 - val_accuracy: 0.7539\n",
      "Epoch 15/15\n",
      "33/33 [==============================] - 15s 448ms/step - loss: 101.3963 - accuracy: 0.8393 - val_loss: 150.8570 - val_accuracy: 0.8359\n"
     ]
    }
   ],
   "source": [
    "# \"sparse_categorical_crossentropy\" is the loss function to use for classification when the classes are exclusive.\n",
    "# 'adam' is a stochastic gradient descent method that is based on adaptive estimation of first-order and second-order moments.\n",
    "# \"accuracy\" enables us to measure the accuracy during training and evaluation.\n",
    "model.compile(loss='sparse_categorical_crossentropy', optimizer='adam', metrics=['accuracy'])\n",
    "history = model.fit(train_dataset, epochs=15, validation_data=val_dataset)"
   ],
   "metadata": {
    "collapsed": false,
    "pycharm": {
     "name": "#%%\n"
    }
   }
  },
  {
   "cell_type": "code",
   "execution_count": 14,
   "outputs": [
    {
     "data": {
      "text/plain": "<Figure size 1080x288 with 1 Axes>",
      "image/png": "[encoded data removed]"
     },
     "metadata": {
      "needs_background": "light"
     },
     "output_type": "display_data"
    }
   ],
   "source": [
    "plt.figure(figsize=(15, 4))\n",
    "plt.plot(range(15), history.history['loss'], 'r', label='training loss')\n",
    "plt.plot(range(15), history.history['val_loss'], 'b', label='validation Loss')\n",
    "plt.legend()\n",
    "plt.xlabel('Number of Epochs')\n",
    "plt.ylabel(\"Loss\")\n",
    "plt.show()"
   ],
   "metadata": {
    "collapsed": false,
    "pycharm": {
     "name": "#%%\n"
    }
   }
  },
  {
   "cell_type": "code",
   "execution_count": 15,
   "outputs": [
    {
     "data": {
      "text/plain": "<Figure size 1080x288 with 1 Axes>",
      "image/png": "[encoded data removed]"
     },
     "metadata": {
      "needs_background": "light"
     },
     "output_type": "display_data"
    }
   ],
   "source": [
    "plt.figure(figsize=(15, 4))\n",
    "plt.plot(range(15), history.history['accuracy'], 'r', label='training accuracy')\n",
    "plt.plot(range(15), history.history['val_accuracy'], 'b', label='validation accuracy')\n",
    "plt.legend()\n",
    "plt.xlabel('Number of Epochs')\n",
    "plt.ylabel(\"Accuracy\")\n",
    "plt.show()"
   ],
   "metadata": {
    "collapsed": false,
    "pycharm": {
     "name": "#%%\n"
    }
   }
  },
  {
   "cell_type": "code",
   "execution_count": 16,
   "outputs": [],
   "source": [
    "model.save_weights('My_model.h5')\n",
    "model.load_weights('My_model.h5')"
   ],
   "metadata": {
    "collapsed": false,
    "pycharm": {
     "name": "#%%\n"
    }
   }
  },
  {
   "cell_type": "code",
   "execution_count": 17,
   "outputs": [],
   "source": [
    "# Defining all test images\n",
    "horse1 = 'images/hest_01.png'\n",
    "horse2 = 'images/hest_02.png'\n",
    "horse3 = 'images/hest_03.png'\n",
    "horse4 = 'images/hest_04.png'\n",
    "horse5 = 'images/hest_05.png'\n",
    "horse6 = 'images/hest_06.png'\n",
    "horse7 = 'images/hest_07.png'\n",
    "\n",
    "human1 = 'images/human_01.png'\n",
    "human2 = 'images/human_02.png'\n",
    "human3 = 'images/human_03.png'"
   ],
   "metadata": {
    "collapsed": false,
    "pycharm": {
     "name": "#%%\n"
    }
   }
  },
  {
   "cell_type": "code",
   "execution_count": 27,
   "outputs": [],
   "source": [
    "from tensorflow.keras.preprocessing import image\n",
    "import numpy as np\n",
    "\n",
    "\n",
    "def pred_horse_human(horse_human):\n",
    "    test_image = image.load_img(horse_human, target_size = (300, 300))\n",
    "    test_image = image.img_to_array(test_image)/255\n",
    "    test_image = np.expand_dims(test_image, axis = 0)\n",
    "\n",
    "    result = model.predict(test_image)\n",
    "\n",
    "    pred = np.argmax(result)\n",
    "    print(result, \"-->\", pred)\n",
    "\n",
    "\n",
    "    if pred == 0:\n",
    "        print(\"Predicted as a HORSE\")\n",
    "    else:\n",
    "        print(\"Predicted as a HUMAN\")"
   ],
   "metadata": {
    "collapsed": false,
    "pycharm": {
     "name": "#%%\n"
    }
   }
  },
  {
   "cell_type": "code",
   "execution_count": 26,
   "outputs": [
    {
     "name": "stdout",
     "output_type": "stream",
     "text": [
      "[[0.97221655 0.02778351]] --> 0\n",
      "Predicted as a HORSE\n",
      "[[0.7769537  0.22304635]] --> 0\n",
      "Predicted as a HORSE\n",
      "[[9.9999976e-01 2.2829470e-07]] --> 0\n",
      "Predicted as a HORSE\n",
      "[[0.04239699 0.957603  ]] --> 1\n",
      "Predicted as a HUMAN\n",
      "[[9.999957e-01 4.273556e-06]] --> 0\n",
      "Predicted as a HORSE\n",
      "[[0.22089212 0.7791079 ]] --> 1\n",
      "Predicted as a HUMAN\n",
      "[[9.9999547e-01 4.4738572e-06]] --> 0\n",
      "Predicted as a HORSE\n",
      "[[4.1012016e-05 9.9995899e-01]] --> 1\n",
      "Predicted as a HUMAN\n",
      "[[9.9967837e-01 3.2162046e-04]] --> 0\n",
      "Predicted as a HORSE\n",
      "[[0.968501   0.03149903]] --> 0\n",
      "Predicted as a HORSE\n"
     ]
    }
   ],
   "source": [
    "for horse_human in [horse1, horse2, horse3, horse4, horse5, horse6, horse7, human1, human2, human3]:\n",
    "    pred_horse_human(horse_human)"
   ],
   "metadata": {
    "collapsed": false,
    "pycharm": {
     "name": "#%%\n"
    }
   }
  },
  {
   "cell_type": "code",
   "execution_count": 20,
   "outputs": [
    {
     "name": "stdout",
     "output_type": "stream",
     "text": [
      "8/8 [==============================] - 1s 68ms/step - loss: 150.8570 - accuracy: 0.8359\n"
     ]
    },
    {
     "data": {
      "text/plain": "[150.85702514648438, 0.8359375]"
     },
     "execution_count": 20,
     "metadata": {},
     "output_type": "execute_result"
    }
   ],
   "source": [
    "model.evaluate(val_dataset)"
   ],
   "metadata": {
    "collapsed": false,
    "pycharm": {
     "name": "#%%\n"
    }
   }
  }
 ],
 "metadata": {
  "kernelspec": {
   "display_name": "Python 3",
   "language": "python",
   "name": "python3"
  },
  "language_info": {
   "codemirror_mode": {
    "name": "ipython",
    "version": 2
   },
   "file_extension": ".py",
   "mimetype": "text/x-python",
   "name": "python",
   "nbconvert_exporter": "python",
   "pygments_lexer": "ipython2",
   "version": "2.7.6"
  }
 },
 "nbformat": 4,
 "nbformat_minor": 0
}